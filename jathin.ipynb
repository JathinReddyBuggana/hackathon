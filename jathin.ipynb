{
 "cells": [
  {
   "cell_type": "code",
   "execution_count": 8,
   "metadata": {
    "id": "vkXrxFL2WCl_"
   },
   "outputs": [],
   "source": [
    "import pandas as pd\n",
    "\n",
    "# Load the datasets\n",
    "movies = pd.read_csv('movies.csv')\n",
    "ratings = pd.read_csv('ratings.csv')\n",
    "links = pd.read_csv('links.csv')\n",
    "tags = pd.read_csv('tags.csv')\n"
   ]
  },
  {
   "cell_type": "code",
   "execution_count": 9,
   "metadata": {
    "colab": {
     "base_uri": "https://localhost:8080/"
    },
    "id": "t0E3KlCLWLG3",
    "outputId": "c29ad212-3c19-4533-e05d-307603b33aa8"
   },
   "outputs": [
    {
     "name": "stdout",
     "output_type": "stream",
     "text": [
      "Number of CSV files: 4\n"
     ]
    }
   ],
   "source": [
    "# Check the number of .csv files\n",
    "csv_files = ['movies.csv', 'ratings.csv', 'links.csv', 'tags.csv']\n",
    "print(f'Number of CSV files: {len(csv_files)}')"
   ]
  },
  {
   "cell_type": "code",
   "execution_count": 10,
   "metadata": {
    "colab": {
     "base_uri": "https://localhost:8080/"
    },
    "id": "4jtfefouWOPI",
    "outputId": "40058cbc-d453-4062-f405-6c843ac5d69e"
   },
   "outputs": [
    {
     "name": "stdout",
     "output_type": "stream",
     "text": [
      "Shape of movies.csv: (9742, 3)\n",
      "Shape of ratings.csv: (100836, 4)\n"
     ]
    }
   ],
   "source": [
    "# Check the shape of the datasets\n",
    "print(f'Shape of movies.csv: {movies.shape}')\n",
    "print(f'Shape of ratings.csv: {ratings.shape}')"
   ]
  },
  {
   "cell_type": "code",
   "execution_count": 11,
   "metadata": {
    "colab": {
     "base_uri": "https://localhost:8080/"
    },
    "id": "r5OTEXxnWQnh",
    "outputId": "a110110d-1161-4840-9263-88243cf55a4b"
   },
   "outputs": [
    {
     "name": "stdout",
     "output_type": "stream",
     "text": [
      "Number of unique userId: 610\n"
     ]
    }
   ],
   "source": [
    "unique_users = ratings['userId'].nunique()\n",
    "print(f'Number of unique userId: {unique_users}')\n"
   ]
  },
  {
   "cell_type": "code",
   "execution_count": 12,
   "metadata": {
    "colab": {
     "base_uri": "https://localhost:8080/"
    },
    "id": "OrQrCUHKWTPP",
    "outputId": "a6827a20-03ec-42ad-bf0d-0bc50e0d0a5c"
   },
   "outputs": [
    {
     "name": "stdout",
     "output_type": "stream",
     "text": [
      "Movie with maximum number of user ratings: Forrest Gump (1994)\n"
     ]
    }
   ],
   "source": [
    "ratings_count = ratings.groupby('movieId').size().reset_index(name='counts')\n",
    "max_ratings_movie = ratings_count[ratings_count['counts'] == ratings_count['counts'].max()]\n",
    "max_ratings_movie_id = max_ratings_movie['movieId'].values[0]\n",
    "\n",
    "# Merge with movies to get the name of the movie\n",
    "max_rated_movie = movies[movies['movieId'] == max_ratings_movie_id]['title'].values[0]\n",
    "print(f'Movie with maximum number of user ratings: {max_rated_movie}')\n"
   ]
  },
  {
   "cell_type": "code",
   "execution_count": 13,
   "metadata": {
    "colab": {
     "base_uri": "https://localhost:8080/"
    },
    "id": "m3L_sIwiWVpZ",
    "outputId": "cfb306be-cb05-4935-e510-a6c6fbca3786"
   },
   "outputs": [
    {
     "name": "stdout",
     "output_type": "stream",
     "text": [
      "Tags for Matrix, The (1999): ['martial arts' 'sci-fi' 'alternate universe' 'philosophy'\n",
      " 'post apocalyptic']\n"
     ]
    }
   ],
   "source": [
    "matrix_movie_id = movies[movies['title'].str.contains('Matrix, The')]['movieId'].values[0]\n",
    "matrix_tags = tags[tags['movieId'] == matrix_movie_id]['tag'].unique()\n",
    "print(f'Tags for Matrix, The (1999): {matrix_tags}')\n"
   ]
  },
  {
   "cell_type": "code",
   "execution_count": 14,
   "metadata": {
    "colab": {
     "base_uri": "https://localhost:8080/"
    },
    "id": "XT5XQmxNWYMR",
    "outputId": "a9a76bcb-2d8e-4a95-cefb-8f42c6dac181"
   },
   "outputs": [
    {
     "name": "stdout",
     "output_type": "stream",
     "text": [
      "Average rating for Terminator 2: Judgment Day (1991): 3.970982142857143\n"
     ]
    }
   ],
   "source": [
    "t2_movie_id = movies[movies['title'].str.contains('Terminator 2')]['movieId'].values[0]\n",
    "t2_ratings = ratings[ratings['movieId'] == t2_movie_id]['rating'].mean()\n",
    "print(f'Average rating for Terminator 2: Judgment Day (1991): {t2_ratings}')"
   ]
  },
  {
   "cell_type": "code",
   "execution_count": 15,
   "metadata": {
    "colab": {
     "base_uri": "https://localhost:8080/",
     "height": 430
    },
    "id": "oeBnubFdWeip",
    "outputId": "d84ceade-a898-47e3-b49c-ef2cf99cb3b3"
   },
   "outputs": [
    {
     "data": {
      "image/png": "[encoded data removed]",
      "text/plain": [
       "<Figure size 640x480 with 1 Axes>"
      ]
     },
     "metadata": {},
     "output_type": "display_data"
    }
   ],
   "source": [
    "fight_club_id = movies[movies['title'].str.contains('Fight Club')]['movieId'].values[0]\n",
    "fight_club_ratings = ratings[ratings['movieId'] == fight_club_id]['rating']\n",
    "fight_club_distribution = fight_club_ratings.plot.hist(bins=10).get_figure()\n",
    "fight_club_distribution.savefig('fight_club_distribution.png')\n"
   ]
  },
  {
   "cell_type": "code",
   "execution_count": 16,
   "metadata": {
    "id": "p1JCcJ0JWiaH"
   },
   "outputs": [],
   "source": [
    "# Group by movieId and apply aggregation (count and mean)\n",
    "grouped_ratings = ratings.groupby('movieId').agg({'rating': ['count', 'mean']})\n",
    "grouped_ratings.columns = ['count', 'mean_rating']\n",
    "\n",
    "# Filter movies with more than 50 ratings\n",
    "filtered_movies = grouped_ratings[grouped_ratings['count'] > 50]\n",
    "\n",
    "# Merge with movies dataset\n",
    "popular_movies = pd.merge(filtered_movies, movies, on='movieId')\n"
   ]
  },
  {
   "cell_type": "code",
   "execution_count": 17,
   "metadata": {
    "colab": {
     "base_uri": "https://localhost:8080/"
    },
    "id": "oAf0dNGfWe-g",
    "outputId": "2b549861-d8d1-422f-e164-166c1b589471"
   },
   "outputs": [
    {
     "name": "stdout",
     "output_type": "stream",
     "text": [
      "Most popular movie based on average user ratings: Shawshank Redemption, The (1994)\n"
     ]
    }
   ],
   "source": [
    "most_popular_movie = popular_movies[popular_movies['mean_rating'] == popular_movies['mean_rating'].max()]\n",
    "print(f'Most popular movie based on average user ratings: {most_popular_movie[\"title\"].values[0]}')\n"
   ]
  },
  {
   "cell_type": "code",
   "execution_count": 18,
   "metadata": {
    "colab": {
     "base_uri": "https://localhost:8080/"
    },
    "id": "gmyM3AYYWpmf",
    "outputId": "2a54a827-3d4e-4691-9d16-34de61e3603c"
   },
   "outputs": [
    {
     "name": "stdout",
     "output_type": "stream",
     "text": [
      "Top 5 popular movies based on the number of user ratings:\n",
      "                                title  count\n",
      "61                Forrest Gump (1994)    329\n",
      "53   Shawshank Redemption, The (1994)    317\n",
      "49                Pulp Fiction (1994)    307\n",
      "99   Silence of the Lambs, The (1991)    279\n",
      "248                Matrix, The (1999)    278\n"
     ]
    }
   ],
   "source": [
    "top_5_movies = popular_movies.sort_values(by='count', ascending=False).head(5)\n",
    "print('Top 5 popular movies based on the number of user ratings:')\n",
    "print(top_5_movies[['title', 'count']])\n"
   ]
  },
  {
   "cell_type": "code",
   "execution_count": 6,
   "metadata": {
    "colab": {
     "base_uri": "https://localhost:8080/"
    },
    "id": "Fx8tb7wqRAjv",
    "outputId": "1d7e4249-581b-420c-b277-2e114e52ba6d"
   },
   "outputs": [
    {
     "name": "stdout",
     "output_type": "stream",
     "text": [
      "Number of movies with more than 50 ratings: 436\n"
     ]
    }
   ],
   "source": [
    "import pandas as pd\n",
    "\n",
    "# Load the datasets\n",
    "movies_df = pd.read_csv('movies.csv')\n",
    "ratings_df = pd.read_csv('ratings.csv')\n",
    "links_df = pd.read_csv('links.csv')\n",
    "\n",
    "# Group by movieId and calculate the number of ratings\n",
    "ratings_grouped = ratings_df.groupby('movieId').agg({'rating': ['count', 'mean']}).reset_index()\n",
    "ratings_grouped.columns = ['movieId', 'rating_count', 'rating_mean']\n",
    "\n",
    "# Filter movies with more than 50 ratings\n",
    "filtered_movies_df = ratings_grouped[ratings_grouped['rating_count'] > 50]\n",
    "\n",
    "# Merge with movies and links data\n",
    "filtered_movies_df = filtered_movies_df.merge(movies_df, on='movieId')\n",
    "filtered_movies_df = filtered_movies_df.merge(links_df, on='movieId')\n",
    "\n",
    "print(f\"Number of movies with more than 50 ratings: {len(filtered_movies_df)}\")\n"
   ]
  },
  {
   "cell_type": "code",
   "execution_count": 2,
   "metadata": {
    "colab": {
     "base_uri": "https://localhost:8080/"
    },
    "id": "_UqiJjj8RZ6h",
    "outputId": "0d15c25b-6f9c-4531-aad2-f9403cd05abe"
   },
   "outputs": [
    {
     "name": "stdout",
     "output_type": "stream",
     "text": [
      "   movieId                    title  \\\n",
      "0        1         Toy Story (1995)   \n",
      "1        2           Jumanji (1995)   \n",
      "2        3  Grumpier Old Men (1995)   \n",
      "3        6              Heat (1995)   \n",
      "4        7           Sabrina (1995)   \n",
      "\n",
      "                                        imdb_reviews  \n",
      "0  [I am a big fan of the animated movies coming ...  \n",
      "1  [I have not seen this movie in more then a dec...  \n",
      "2  [Some people see this as an inferior sequel to...  \n",
      "3  [I have very little interest in most action fi...  \n",
      "4  [Although terribly predictable and a bit too l...  \n"
     ]
    }
   ],
   "source": [
    "import requests\n",
    "from bs4 import BeautifulSoup\n",
    "import time\n",
    "\n",
    "def get_imdb_reviews(imdb_id, max_reviews=10):\n",
    "    reviews = []\n",
    "    url = f\"https://www.imdb.com/title/tt{imdb_id}/reviews\"\n",
    "    response = requests.get(url)\n",
    "    soup = BeautifulSoup(response.text, 'html.parser')\n",
    "\n",
    "    review_blocks = soup.find_all('div', class_='text show-more__control', limit=max_reviews)\n",
    "\n",
    "    for review in review_blocks:\n",
    "        reviews.append(review.text.strip())\n",
    "\n",
    "    return reviews\n",
    "\n",
    "# Add a new column to store the reviews\n",
    "filtered_movies_df['imdb_reviews'] = filtered_movies_df['imdbId'].apply(lambda x: get_imdb_reviews(str(x).zfill(7)))\n",
    "\n",
    "# Display the first few rows to confirm that reviews are being captured\n",
    "print(filtered_movies_df[['movieId', 'title', 'imdb_reviews']].head())\n"
   ]
  },
  {
   "cell_type": "code",
   "execution_count": 1,
   "metadata": {
    "id": "ZbOeQOK0Sk2q"
   },
   "outputs": [
    {
     "ename": "NameError",
     "evalue": "name 'filtered_movies_df' is not defined",
     "output_type": "error",
     "traceback": [
      "\u001b[1;31m---------------------------------------------------------------------------\u001b[0m",
      "\u001b[1;31mNameError\u001b[0m                                 Traceback (most recent call last)",
      "Cell \u001b[1;32mIn[1], line 2\u001b[0m\n\u001b[0;32m      1\u001b[0m \u001b[38;5;66;03m# Save the reviews to a CSV file\u001b[39;00m\n\u001b[1;32m----> 2\u001b[0m \u001b[43mfiltered_movies_df\u001b[49m\u001b[38;5;241m.\u001b[39mto_csv(\u001b[38;5;124m'\u001b[39m\u001b[38;5;124mE:\u001b[39m\u001b[38;5;124m\\\u001b[39m\u001b[38;5;124mInnomatics hackathon\u001b[39m\u001b[38;5;124m\\\u001b[39m\u001b[38;5;124mmovies_with_reviews.csv\u001b[39m\u001b[38;5;124m'\u001b[39m, index\u001b[38;5;241m=\u001b[39m\u001b[38;5;28;01mFalse\u001b[39;00m)\n",
      "\u001b[1;31mNameError\u001b[0m: name 'filtered_movies_df' is not defined"
     ]
    }
   ],
   "source": [
    "# Save the reviews to a CSV file\n",
    "filtered_movies_df.to_csv('E:\\Innomatics hackathon\\movies_with_reviews.csv', index=False)\n",
    "\n"
   ]
  },
  {
   "cell_type": "code",
   "execution_count": 4,
   "metadata": {
    "colab": {
     "base_uri": "https://localhost:8080/"
    },
    "id": "amDyx58RUCYZ",
    "outputId": "cd42da6d-e228-4366-e800-4e3aee91ff07"
   },
   "outputs": [
    {
     "name": "stdout",
     "output_type": "stream",
     "text": [
      "Number of Sci-Fi movies with more than 50 ratings: 88\n"
     ]
    }
   ],
   "source": [
    "# Filter for Sci-Fi movies\n",
    "sci_fi_movies_df = filtered_movies_df[filtered_movies_df['genres'].str.contains('Sci-Fi')]\n",
    "\n",
    "# Check the shape and confirm that Sci-Fi movies have been filtered\n",
    "print(f\"Number of Sci-Fi movies with more than 50 ratings: {len(sci_fi_movies_df)}\")\n",
    "\n"
   ]
  }
 ],
 "metadata": {
  "colab": {
   "provenance": []
  },
  "kernelspec": {
   "display_name": "Python 3 (ipykernel)",
   "language": "python",
   "name": "python3"
  },
  "language_info": {
   "codemirror_mode": {
    "name": "ipython",
    "version": 3
   },
   "file_extension": ".py",
   "mimetype": "text/x-python",
   "name": "python",
   "nbconvert_exporter": "python",
   "pygments_lexer": "ipython3",
   "version": "3.9.19"
  }
 },
 "nbformat": 4,
 "nbformat_minor": 4
}
